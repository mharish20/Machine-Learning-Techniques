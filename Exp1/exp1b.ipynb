{
 "cells": [
  {
   "cell_type": "code",
   "execution_count": 1,
   "metadata": {},
   "outputs": [],
   "source": [
    "import pandas as pd\n",
    "import numpy as np\n",
    "import seaborn as sns\n",
    "import matplotlib.pyplot as plt\n",
    "from scipy.stats import zscore"
   ]
  },
  {
   "cell_type": "code",
   "execution_count": 2,
   "metadata": {},
   "outputs": [],
   "source": [
    "# 1. Read the data\n",
    "data = pd.read_csv(\"Stores1b.csv\")"
   ]
  },
  {
   "cell_type": "code",
   "execution_count": 3,
   "metadata": {},
   "outputs": [
    {
     "name": "stdout",
     "output_type": "stream",
     "text": [
      "% of missing values in each column:\n",
      "Branch            7.843137\n",
      "City              0.000000\n",
      "Customer          0.000000\n",
      "Gender            0.000000\n",
      "Product line     35.294118\n",
      "Unit_price        0.000000\n",
      "Quantity          0.000000\n",
      "Tax               0.000000\n",
      "Total             0.000000\n",
      "Payment           0.000000\n",
      "cogs              0.000000\n",
      "Rating            0.000000\n",
      "Age               0.000000\n",
      "Quarterly_Tax     7.843137\n",
      "Price             0.000000\n",
      "dtype: float64\n"
     ]
    }
   ],
   "source": [
    "# 2. Calculate the % of missing values in the columns\n",
    "missing_percentage = data.isnull().mean() * 100\n",
    "print(\"% of missing values in each column:\")\n",
    "print(missing_percentage)"
   ]
  },
  {
   "cell_type": "code",
   "execution_count": 5,
   "metadata": {},
   "outputs": [
    {
     "name": "stdout",
     "output_type": "stream",
     "text": [
      "\n",
      "Missing values replaced with mean for numerical columns.\n"
     ]
    }
   ],
   "source": [
    "# 3. Replace missing value with mean for numerical columns if % of missing value is < 10%\n",
    "temp_data1 = data.copy(deep=True)\n",
    "for col in temp_data1.select_dtypes(include=['number']).columns:\n",
    "    if missing_percentage[col] < 10:\n",
    "        temp_data1[col] = temp_data1[col].fillna(temp_data1[col].mean())\n",
    "print(\"\\nMissing values replaced with mean for numerical columns.\")"
   ]
  },
  {
   "cell_type": "code",
   "execution_count": 7,
   "metadata": {},
   "outputs": [
    {
     "name": "stdout",
     "output_type": "stream",
     "text": [
      "\n",
      "Missing values interpolated using nearest method for numerical columns.\n"
     ]
    }
   ],
   "source": [
    "# 4. Perform interpolation using nearest method for numerical columns if % of missing value is < 10%\n",
    "temp_data2 = data.copy(deep=True)\n",
    "for col in temp_data2.select_dtypes(include=['number']).columns:\n",
    "    if missing_percentage[col] < 10:\n",
    "        temp_data2[col] = temp_data2[col].interpolate(method='nearest')\n",
    "print(\"\\nMissing values interpolated using nearest method for numerical columns.\")"
   ]
  },
  {
   "cell_type": "code",
   "execution_count": 9,
   "metadata": {},
   "outputs": [
    {
     "name": "stdout",
     "output_type": "stream",
     "text": [
      "\n",
      "Missing values replaced with mode for categorical columns.\n"
     ]
    }
   ],
   "source": [
    "# 5. Perform mode imputation for categorical data if % of missing value is < 10%\n",
    "temp_data3 = data.copy(deep=True)\n",
    "for col in temp_data3.select_dtypes(include=['object']).columns:\n",
    "    if missing_percentage[col] < 10:\n",
    "        temp_data3[col] = temp_data3[col].fillna(temp_data3[col].mode()[0])\n",
    "print(\"\\nMissing values replaced with mode for categorical columns.\")"
   ]
  },
  {
   "cell_type": "code",
   "execution_count": 10,
   "metadata": {},
   "outputs": [
    {
     "name": "stdout",
     "output_type": "stream",
     "text": [
      "\n",
      "Size after dropping columns with >10% missing values: (51, 14)\n"
     ]
    }
   ],
   "source": [
    "# 6. Drop columns with more than 10% missing values and display size\n",
    "temp_data4 = data.copy(deep=True)\n",
    "temp_data4.drop(columns=missing_percentage[missing_percentage > 10].index, inplace=True)\n",
    "print(\"\\nSize after dropping columns with >10% missing values:\", temp_data4.shape)"
   ]
  },
  {
   "cell_type": "code",
   "execution_count": 11,
   "metadata": {},
   "outputs": [
    {
     "name": "stdout",
     "output_type": "stream",
     "text": [
      "\n",
      "Size after dropping rows with Z-score > 3 for 'Quantity': (47, 15)\n"
     ]
    }
   ],
   "source": [
    "# 7. Drop rows with outlier Z-score value > 3 for \"Quantity\" and display size\n",
    "temp_data5 = data.copy(deep=True)\n",
    "z_scores_quantity = zscore(temp_data5['Quantity'].dropna())\n",
    "outliers_quantity = np.abs(z_scores_quantity) > 3\n",
    "temp_data5 = temp_data5[~outliers_quantity]\n",
    "print(\"\\nSize after dropping rows with Z-score > 3 for 'Quantity':\", temp_data5.shape)"
   ]
  },
  {
   "cell_type": "code",
   "execution_count": 12,
   "metadata": {},
   "outputs": [
    {
     "name": "stdout",
     "output_type": "stream",
     "text": [
      "\n",
      "% of duplicate rows (all columns): 3.9215686274509802\n"
     ]
    }
   ],
   "source": [
    "# 8. Find the % of duplicate rows with all columns having the same value\n",
    "duplicate_rows_all = data.duplicated().mean() * 100\n",
    "print(\"\\n% of duplicate rows (all columns):\", duplicate_rows_all)"
   ]
  },
  {
   "cell_type": "code",
   "execution_count": 13,
   "metadata": {},
   "outputs": [
    {
     "name": "stdout",
     "output_type": "stream",
     "text": [
      "\n",
      "% of duplicate rows (specific columns): 15.686274509803921\n",
      "Size after dropping duplicates (specific columns): (43, 15)\n"
     ]
    }
   ],
   "source": [
    "# 9. Find the % of duplicate rows based on specific columns and drop them\n",
    "temp_data6 = data.copy(deep=True)\n",
    "duplicate_rows_specific = temp_data6.duplicated(subset=['Customer', 'Product line', 'Age', 'Gender']).mean() * 100\n",
    "print(\"\\n% of duplicate rows (specific columns):\", duplicate_rows_specific)\n",
    "temp_data6.drop_duplicates(subset=['Customer', 'Product line', 'Age', 'Gender'], inplace=True)\n",
    "print(\"Size after dropping duplicates (specific columns):\", temp_data6.shape)"
   ]
  },
  {
   "cell_type": "code",
   "execution_count": 14,
   "metadata": {},
   "outputs": [
    {
     "data": {
      "image/png": "[encoded data removed]",
      "text/plain": [
       "<Figure size 640x480 with 1 Axes>"
      ]
     },
     "metadata": {},
     "output_type": "display_data"
    }
   ],
   "source": [
    "# 10. Perform min-max normalization for 'Age' and analyze with scatter plot\n",
    "temp_data7 = data.copy(deep=True)\n",
    "min_age = temp_data7['Age'].min()\n",
    "max_age = temp_data7['Age'].max()\n",
    "temp_data7['Age_minmax'] = (temp_data7['Age'] - min_age) / (max_age - min_age)\n",
    "sns.scatterplot(x=temp_data7.index, y=temp_data7['Age_minmax'])\n",
    "plt.title(\"Min-Max Normalization for Age\")\n",
    "plt.show()"
   ]
  },
  {
   "cell_type": "code",
   "execution_count": 15,
   "metadata": {},
   "outputs": [
    {
     "data": {
      "image/png": "[encoded data removed]",
      "text/plain": [
       "<Figure size 640x480 with 1 Axes>"
      ]
     },
     "metadata": {},
     "output_type": "display_data"
    }
   ],
   "source": [
    "# 11. Perform Z-score normalization for 'Age' and analyze with scatter plot\n",
    "temp_data8 = data.copy(deep=True)\n",
    "temp_data8['Age_zscore'] = zscore(temp_data8['Age'].dropna())\n",
    "sns.scatterplot(x=temp_data8.index, y=temp_data8['Age_zscore'])\n",
    "plt.title(\"Z-score Normalization for Age\")\n",
    "plt.show()\n"
   ]
  },
  {
   "cell_type": "code",
   "execution_count": 16,
   "metadata": {},
   "outputs": [
    {
     "name": "stdout",
     "output_type": "stream",
     "text": [
      "\n",
      "Label encoding for 'Payment':\n",
      "       Payment  Payment_label\n",
      "0      Ewallet              2\n",
      "1         Cash              0\n",
      "2  Credit card              1\n",
      "3      Ewallet              2\n",
      "4      Ewallet              2\n"
     ]
    }
   ],
   "source": [
    "# 12. Perform label encoding for 'Payment'\n",
    "temp_data9 = data.copy(deep=True)\n",
    "temp_data9['Payment_label'] = temp_data9['Payment'].astype('category').cat.codes\n",
    "print(\"\\nLabel encoding for 'Payment':\")\n",
    "print(temp_data9[['Payment', 'Payment_label']].head())"
   ]
  },
  {
   "cell_type": "code",
   "execution_count": 17,
   "metadata": {},
   "outputs": [
    {
     "name": "stdout",
     "output_type": "stream",
     "text": [
      "\n",
      "One-hot encoding for 'Payment':\n",
      "  Branch       City Customer  Gender            Product line  Unit_price  \\\n",
      "0      A     Yangon   Member  Female       Health and beauty       74.69   \n",
      "1      C  Naypyitaw   Normal  Female  Electronic accessories       15.28   \n",
      "2      A     Yangon   Normal    Male      Home and lifestyle       46.33   \n",
      "3      A     Yangon   Member    Male       Health and beauty       58.22   \n",
      "4      A     Yangon   Normal    Male       Sports and travel       86.31   \n",
      "\n",
      "   Quantity      Tax     Total      Payment    cogs  Rating  Age  \\\n",
      "0         7  26.1415  548.9715      Ewallet  522.83     9.1   23   \n",
      "1         5   3.8200   80.2200         Cash   76.40     9.6   23   \n",
      "2         7  16.2155  340.5255  Credit card  324.31     7.4   24   \n",
      "3         8  23.2880  489.0480      Ewallet  465.76     8.4   26   \n",
      "4        60  30.2085  634.3785      Ewallet  604.17     5.3   30   \n",
      "\n",
      "   Quarterly_Tax  Price  Payment_Cash  Payment_Credit card  Payment_Ewallet  \n",
      "0          210.0   7469         False                False             True  \n",
      "1          210.0   1528          True                False            False  \n",
      "2            NaN   4633         False                 True            False  \n",
      "3          210.0   5822         False                False             True  \n",
      "4          210.0   8631         False                False             True  \n"
     ]
    }
   ],
   "source": [
    "# 13. Perform one-hot encoding for 'Payment'\n",
    "temp_data10 = data.copy(deep=True)\n",
    "payment_one_hot = pd.get_dummies(temp_data10['Payment'], prefix='Payment')\n",
    "temp_data10 = pd.concat([temp_data10, payment_one_hot], axis=1)\n",
    "print(\"\\nOne-hot encoding for 'Payment':\")\n",
    "print(temp_data10.head())"
   ]
  }
 ],
 "metadata": {
  "language_info": {
   "name": "python"
  }
 },
 "nbformat": 4,
 "nbformat_minor": 2
}
