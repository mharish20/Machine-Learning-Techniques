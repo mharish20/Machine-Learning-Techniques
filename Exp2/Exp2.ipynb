{
 "cells": [
  {
   "cell_type": "code",
   "execution_count": 7,
   "metadata": {},
   "outputs": [],
   "source": [
    "import pandas as pd\n",
    "import numpy as np\n",
    "from sklearn.model_selection import train_test_split\n",
    "from sklearn.preprocessing import StandardScaler, LabelEncoder\n",
    "from sklearn.impute import SimpleImputer\n",
    "from sklearn.feature_selection import VarianceThreshold, SelectKBest, f_classif\n",
    "from sklearn.decomposition import PCA\n",
    "from sklearn.discriminant_analysis import LinearDiscriminantAnalysis\n",
    "import seaborn as sns\n",
    "import matplotlib.pyplot as plt"
   ]
  },
  {
   "cell_type": "code",
   "execution_count": 2,
   "metadata": {},
   "outputs": [
    {
     "name": "stdout",
     "output_type": "stream",
     "text": [
      "Initial Data:\n",
      "   Price  Age  Mfg_Month  Mfg_Year     KM Fuel_Type  HP  Met_Color  Automatic  \\\n",
      "0  12950   23         10      2002  46986    Diesel  90          1          0   \n",
      "1  12950   23         10      2002  72937    Diesel  90          1          0   \n",
      "2  12950   24          9      2002  41711    Diesel  90          1          0   \n",
      "3  13950   26          7      2002  48000    Diesel  90          0          0   \n",
      "4  17950   30          3      2002  38500    Diesel  90          0          0   \n",
      "\n",
      "     cc  Doors Gears  Quarterly_Tax  Weight  Mfr_Guarantee  BOVAG_Guarantee  \\\n",
      "0  2000    3.0  Five            210    1165            0.0                1   \n",
      "1  2000    3.0  Five            210    1165            0.0                1   \n",
      "2  2000    3.0  Five            210    1165            1.0                1   \n",
      "3  2000    3.0  Five            210    1165            1.0                1   \n",
      "4  2000    3.0  Five            210    1170            1.0                1   \n",
      "\n",
      "   Guarantee_Period  \n",
      "0                 3  \n",
      "1                 3  \n",
      "2                 3  \n",
      "3                 4  \n",
      "4                 5  \n",
      "\n",
      "Data Info:\n",
      "<class 'pandas.core.frame.DataFrame'>\n",
      "RangeIndex: 50 entries, 0 to 49\n",
      "Data columns (total 17 columns):\n",
      " #   Column            Non-Null Count  Dtype  \n",
      "---  ------            --------------  -----  \n",
      " 0   Price             50 non-null     int64  \n",
      " 1   Age               50 non-null     int64  \n",
      " 2   Mfg_Month         50 non-null     int64  \n",
      " 3   Mfg_Year          50 non-null     int64  \n",
      " 4   KM                50 non-null     int64  \n",
      " 5   Fuel_Type         50 non-null     object \n",
      " 6   HP                50 non-null     int64  \n",
      " 7   Met_Color         50 non-null     int64  \n",
      " 8   Automatic         50 non-null     int64  \n",
      " 9   cc                50 non-null     int64  \n",
      " 10  Doors             44 non-null     float64\n",
      " 11  Gears             50 non-null     object \n",
      " 12  Quarterly_Tax     50 non-null     int64  \n",
      " 13  Weight            50 non-null     int64  \n",
      " 14  Mfr_Guarantee     27 non-null     float64\n",
      " 15  BOVAG_Guarantee   50 non-null     int64  \n",
      " 16  Guarantee_Period  50 non-null     int64  \n",
      "dtypes: float64(2), int64(13), object(2)\n",
      "memory usage: 6.8+ KB\n"
     ]
    }
   ],
   "source": [
    "# Step 1: Read and analyze the data\n",
    "data = pd.read_csv('toyota.csv')\n",
    "print(\"Initial Data:\")\n",
    "print(data.head())\n",
    "print(\"\\nData Info:\")\n",
    "data.info()"
   ]
  },
  {
   "cell_type": "code",
   "execution_count": 9,
   "metadata": {},
   "outputs": [],
   "source": [
    "# Encode categorical columns\n",
    "categorical_columns = ['Fuel_Type', 'Gears']\n",
    "label_encoders = {}\n",
    "for col in categorical_columns:\n",
    "    le = LabelEncoder()\n",
    "    data[col] = le.fit_transform(data[col])\n",
    "    label_encoders[col] = le\n",
    "\n",
    "# Step 2: Split the dataset into train and test sets\n",
    "X = data.drop(columns=['Price'])  # 'Price' is the target column\n",
    "y = data['Price']\n",
    "X_train, X_test, y_train, y_test = train_test_split(X, y, test_size=0.2, random_state=42)"
   ]
  },
  {
   "cell_type": "code",
   "execution_count": 10,
   "metadata": {},
   "outputs": [
    {
     "name": "stdout",
     "output_type": "stream",
     "text": [
      "\n",
      "Shape of Training Set: (40, 16)\n",
      "Shape of Test Set: (10, 16)\n"
     ]
    }
   ],
   "source": [
    "# Step 3: Check the shape of training and test sets\n",
    "print(\"\\nShape of Training Set:\", X_train.shape)\n",
    "print(\"Shape of Test Set:\", X_test.shape)"
   ]
  },
  {
   "cell_type": "code",
   "execution_count": 11,
   "metadata": {},
   "outputs": [],
   "source": [
    "# Step 4: Perform scaling in the data using StandardScaler\n",
    "scaler = StandardScaler()\n",
    "X_train_scaled = scaler.fit_transform(X_train)\n",
    "X_test_scaled = scaler.transform(X_test)"
   ]
  },
  {
   "cell_type": "code",
   "execution_count": 12,
   "metadata": {},
   "outputs": [
    {
     "name": "stdout",
     "output_type": "stream",
     "text": [
      "\n",
      "Percentage of Missing Values:\n",
      "Price                0.0\n",
      "Age                  0.0\n",
      "Mfg_Month            0.0\n",
      "Mfg_Year             0.0\n",
      "KM                   0.0\n",
      "Fuel_Type            0.0\n",
      "HP                   0.0\n",
      "Met_Color            0.0\n",
      "Automatic            0.0\n",
      "cc                   0.0\n",
      "Doors               12.0\n",
      "Gears                0.0\n",
      "Quarterly_Tax        0.0\n",
      "Weight               0.0\n",
      "Mfr_Guarantee       46.0\n",
      "BOVAG_Guarantee      0.0\n",
      "Guarantee_Period     0.0\n",
      "dtype: float64\n"
     ]
    }
   ],
   "source": [
    "# Step 5: Calculate the % of missing values in each column\n",
    "missing_percentages = data.isnull().mean() * 100\n",
    "print(\"\\nPercentage of Missing Values:\")\n",
    "print(missing_percentages)"
   ]
  },
  {
   "cell_type": "code",
   "execution_count": 13,
   "metadata": {},
   "outputs": [],
   "source": [
    "# Step 6: Remove features with missing values > 20%\n",
    "data = data.loc[:, missing_percentages <= 20]"
   ]
  },
  {
   "cell_type": "code",
   "execution_count": 16,
   "metadata": {},
   "outputs": [],
   "source": [
    "# Step 7: Impute missing values for columns with < 20% missing\n",
    "def impute_missing_values(df, strategy='mean'):\n",
    "    imputer = SimpleImputer(strategy=strategy)\n",
    "    for column in df.columns:\n",
    "        if df[column].isnull().any():\n",
    "            df.loc[:, column] = imputer.fit_transform(df[[column]])\n",
    "    return df\n",
    "\n",
    "data = impute_missing_values(data, strategy='mean')"
   ]
  },
  {
   "cell_type": "code",
   "execution_count": 15,
   "metadata": {},
   "outputs": [],
   "source": [
    "# Step 8: Remove outliers (Z-score method)\n",
    "from scipy.stats import zscore\n",
    "z_scores = np.abs(zscore(data.select_dtypes(include=[np.number])))\n",
    "data = data[(z_scores < 3).all(axis=1)]"
   ]
  },
  {
   "cell_type": "code",
   "execution_count": 19,
   "metadata": {},
   "outputs": [
    {
     "name": "stdout",
     "output_type": "stream",
     "text": [
      "Error: Found array with 0 sample(s) (shape=(0, 16)) while a minimum of 1 is required by VarianceThreshold.\n"
     ]
    }
   ],
   "source": [
    "# Step 9: Find constant features using VarianceThreshold\n",
    "selector = VarianceThreshold(threshold=0.0)\n",
    "try:\n",
    "    selector.fit(data)\n",
    "    constant_features = [column for column in data.columns if column not in data.columns[selector.get_support()]]\n",
    "    print(\"\\nConstant Features:\", constant_features)\n",
    "except ValueError as e:\n",
    "    print(f\"Error: {e}\")"
   ]
  },
  {
   "cell_type": "code",
   "execution_count": 22,
   "metadata": {},
   "outputs": [
    {
     "name": "stdout",
     "output_type": "stream",
     "text": [
      "DataFrame is empty. Skipping VarianceThreshold.\n"
     ]
    }
   ],
   "source": [
    "# Step 10: Remove features with low variance\n",
    "if not data.empty:\n",
    "    selector = VarianceThreshold(threshold=0.01)\n",
    "    selector.fit(data)\n",
    "    data = data[data.columns[selector.get_support()]]\n",
    "else:\n",
    "    print(\"DataFrame is empty. Skipping VarianceThreshold.\")"
   ]
  },
  {
   "cell_type": "code",
   "execution_count": 21,
   "metadata": {},
   "outputs": [],
   "source": [
    "# Step 11: Remove highly correlated features\n",
    "correlation_matrix = data.corr()\n",
    "high_correlation = correlation_matrix.abs() > 0.9\n",
    "upper_triangle = np.triu(high_correlation, k=1)\n",
    "features_to_remove = [column for column in correlation_matrix.columns if any(upper_triangle[:, list(correlation_matrix.columns).index(column)])]\n",
    "data = data.drop(columns=features_to_remove)"
   ]
  },
  {
   "cell_type": "code",
   "execution_count": 29,
   "metadata": {},
   "outputs": [
    {
     "name": "stdout",
     "output_type": "stream",
     "text": [
      "\n",
      "Selected Features (Univariate Selection): Index(['Age', 'Mfg_Month', 'KM', 'Fuel_Type', 'HP', 'cc', 'Doors', 'Gears',\n",
      "       'Quarterly_Tax', 'Weight'],\n",
      "      dtype='object')\n"
     ]
    },
    {
     "name": "stderr",
     "output_type": "stream",
     "text": [
      "/home/codespace/.local/lib/python3.12/site-packages/sklearn/feature_selection/_univariate_selection.py:111: UserWarning: Features [2] are constant.\n",
      "  warnings.warn(\"Features %s are constant.\" % constant_features_idx, UserWarning)\n",
      "/home/codespace/.local/lib/python3.12/site-packages/sklearn/feature_selection/_univariate_selection.py:112: RuntimeWarning: invalid value encountered in divide\n",
      "  f = msb / msw\n"
     ]
    }
   ],
   "source": [
    "# Step 12: Perform Univariate feature selection\n",
    "from sklearn.impute import SimpleImputer\n",
    "\n",
    "# Impute missing values in X_train and X_test\n",
    "imputer = SimpleImputer(strategy='mean')\n",
    "X_train_imputed = imputer.fit_transform(X_train)\n",
    "X_test_imputed = imputer.transform(X_test)\n",
    "\n",
    "# Perform scaling after imputation\n",
    "scaler = StandardScaler()\n",
    "X_train_scaled = scaler.fit_transform(X_train_imputed)\n",
    "X_test_scaled = scaler.transform(X_test_imputed)\n",
    "\n",
    "# Univariate feature selection\n",
    "k_best_selector = SelectKBest(score_func=f_classif, k=10)\n",
    "k_best_selector.fit(X_train_scaled, y_train)\n",
    "selected_features = X.columns[k_best_selector.get_support()]\n",
    "print(\"\\nSelected Features (Univariate Selection):\", selected_features)"
   ]
  },
  {
   "cell_type": "code",
   "execution_count": 26,
   "metadata": {},
   "outputs": [
    {
     "name": "stderr",
     "output_type": "stream",
     "text": [
      "/home/codespace/.local/lib/python3.12/site-packages/seaborn/matrix.py:202: RuntimeWarning: All-NaN slice encountered\n",
      "  vmin = np.nanmin(calc_data)\n",
      "/home/codespace/.local/lib/python3.12/site-packages/seaborn/matrix.py:207: RuntimeWarning: All-NaN slice encountered\n",
      "  vmax = np.nanmax(calc_data)\n"
     ]
    },
    {
     "data": {
      "image/png": "[encoded data removed]",
      "text/plain": [
       "<Figure size 1200x800 with 2 Axes>"
      ]
     },
     "metadata": {},
     "output_type": "display_data"
    }
   ],
   "source": [
    "# Step 13: Correlation Matrix and Heatmap\n",
    "plt.figure(figsize=(12, 8))\n",
    "sns.heatmap(correlation_matrix, annot=True, fmt='.2f', cmap='coolwarm')\n",
    "plt.title(\"Correlation Matrix with Heatmap\")\n",
    "plt.show()\n"
   ]
  },
  {
   "cell_type": "code",
   "execution_count": 30,
   "metadata": {},
   "outputs": [
    {
     "name": "stdout",
     "output_type": "stream",
     "text": [
      "\n",
      "PCA Explained Variance Ratio: [0.29541033 0.17598464]\n"
     ]
    }
   ],
   "source": [
    "# Step 14: Apply PCA\n",
    "pca = PCA(n_components=2)\n",
    "X_train_pca = pca.fit_transform(X_train_scaled)\n",
    "X_test_pca = pca.transform(X_test_scaled)\n",
    "print(\"\\nPCA Explained Variance Ratio:\", pca.explained_variance_ratio_)"
   ]
  },
  {
   "cell_type": "code",
   "execution_count": 31,
   "metadata": {},
   "outputs": [
    {
     "name": "stdout",
     "output_type": "stream",
     "text": [
      "\n",
      "LDA Coefficients: [[-1.98887420e+02  1.98887420e+02  3.04298517e-13  4.01275057e+01\n",
      "   3.64631395e+02 -1.27180543e+02  1.39320416e+01  1.62678915e+01\n",
      "   2.34144246e+02  3.30793360e+01  6.73198655e+01  9.74660446e+01\n",
      "  -6.88131546e+01  3.12883476e+01 -1.07220012e+01  3.48690777e+00]\n",
      " [-2.43868792e+02  2.43868792e+02  1.82981529e-13  5.86747935e+01\n",
      "   2.25661843e+02 -6.47534531e+01  2.68493274e+01  3.31832872e+01\n",
      "   1.74276906e+02  5.94168508e+01  6.71486202e+01  3.93608971e+01\n",
      "  -1.06586333e+02  4.60440457e+01 -1.15107713e+01  1.64021300e+01]\n",
      " [-2.07530226e+02  2.07530226e+02  3.87720310e-13  4.78924807e+01\n",
      "   4.51667171e+02 -1.50787298e+02  7.53784570e+00  1.32205082e+01\n",
      "   2.61045092e+02  3.04223765e+01  7.39673597e+01  1.44489954e+02\n",
      "  -6.92884220e+01  3.35067541e+01 -1.48947927e+01 -1.55674811e+00]\n",
      " [-2.03485349e+02  2.03485349e+02  2.69309402e-13  4.33597999e+01\n",
      "   3.20743955e+02 -1.05344385e+02  1.14946091e+01  1.57368526e+01\n",
      "   2.01865385e+02  2.01294388e+01  6.08776464e+01  8.77452521e+01\n",
      "  -6.45263466e+01  3.30570546e+01 -1.27603875e+01  6.68786001e+00]\n",
      " [-2.78079029e+02  2.78079029e+02  9.11373560e-13  5.81835130e+01\n",
      "   1.05451200e+03 -3.84724303e+02  1.04076494e+01  1.37804990e+01\n",
      "   6.09761115e+02  2.05146836e+01  1.63263557e+02  3.50181115e+02\n",
      "  -1.19517458e+02  3.90010050e+01 -1.96767558e+01 -2.57174322e+01]\n",
      " [-1.22163665e+02  1.22163665e+02  2.67408690e-14  1.93568812e+01\n",
      "   5.43880912e+01 -2.26193132e+01  1.26987797e+01  1.20314408e+01\n",
      "   7.92099985e+01  9.93112304e+00  2.25835930e+01 -2.55732479e+01\n",
      "  -3.31452147e+01  1.72520902e+01 -1.86452839e+00  1.39651726e+01]\n",
      " [-1.14326093e+02  1.14326093e+02  6.28376246e-13  2.41716021e+01\n",
      "   7.15904678e+02 -2.65210038e+02  1.42194905e-01  1.33000728e+00\n",
      "   3.92956260e+02  5.04568724e+00  1.04083991e+02  2.58858642e+02\n",
      "  -6.28540115e+01  1.38515159e+01 -1.09976127e+01 -2.76086519e+01]\n",
      " [-2.38375194e+01  2.38375194e+01  4.88072076e-15  3.99189790e+00\n",
      "   4.16057448e+00  2.09631158e+00 -3.02247653e+00 -1.34030161e+00\n",
      "  -7.54070309e+00 -9.74024064e-01  5.57318308e-01  5.54362165e+00\n",
      "   2.20788123e+00  3.29176708e+00 -2.38701174e+00  1.28312941e+00]\n",
      " [ 1.97230832e+01 -1.97230832e+01 -2.32596335e-13 -7.02110218e+00\n",
      "  -2.60811111e+02  9.55790550e+01  9.85822926e-01  1.79504847e-01\n",
      "  -1.35197704e+02 -4.59046243e+00 -3.48175136e+01 -1.01704190e+02\n",
      "   2.08435790e+01 -2.89744645e+00  3.81354505e+00  1.28431097e+01]\n",
      " [ 1.26094819e+01 -1.26094819e+01 -4.92457978e-14  1.12005552e+00\n",
      "  -6.60721129e+01  3.16975681e+01 -4.44323468e+00 -1.78857761e+00\n",
      "  -5.84136575e+01  1.72762358e+00 -1.02133886e+01 -6.03283491e+00\n",
      "   6.76719958e+00 -4.62345331e-02 -1.68146319e+00 -1.44519957e-01]\n",
      " [ 1.00012814e+02 -1.00012814e+02 -5.16402698e-13 -2.52917498e+01\n",
      "  -5.79366169e+02  2.11209991e+02 -7.91227130e+00 -1.15485842e+01\n",
      "  -3.18986165e+02 -2.74640953e+01 -9.30827012e+01 -2.20103836e+02\n",
      "   8.41188641e+01 -1.81891574e+01  1.03691081e+01  1.97790034e+01]\n",
      " [ 5.58255955e+01 -5.58255955e+01 -1.83912986e-13 -8.42856421e+00\n",
      "  -2.18986157e+02  8.46050128e+01 -1.41024239e+00 -1.22494413e+00\n",
      "  -1.36351107e+02  4.50450623e+00 -3.10419477e+01 -6.32956661e+01\n",
      "   1.90329728e+01 -5.83821045e+00  2.44306757e+00  3.74906883e+00]\n",
      " [ 4.37843748e+01 -4.37843748e+01 -1.68030742e-13 -2.03179853e-01\n",
      "  -2.05558586e+02  8.85970627e+01 -6.05768817e+00 -2.69036879e+00\n",
      "  -1.43802261e+02  8.24444862e+00 -3.41116046e+01 -4.84477792e+01\n",
      "   2.12692563e+01 -2.60708535e+00 -9.75662079e-01  4.02368191e+00]\n",
      " [ 4.58350767e+01 -4.58350767e+01  3.57410476e-13 -8.00180255e+00\n",
      "   3.93130796e+02 -1.52111649e+02 -8.41858818e+00 -9.27044453e+00\n",
      "   1.88913673e+02 -6.25983222e+00  4.32797020e+01  1.70056451e+02\n",
      "  -1.21371563e+01 -9.96897493e+00 -1.78703607e+00 -2.72916590e+01]\n",
      " [ 8.45161370e+01 -8.45161370e+01  2.65536814e-13 -1.43784511e+01\n",
      "   2.84950969e+02 -1.12353630e+02 -8.00892583e+00 -9.12382762e+00\n",
      "   1.26292882e+02 -6.89521988e+00  2.62565433e+01  1.36185353e+02\n",
      "  -2.99631738e+00 -1.35486652e+01  5.04089478e-01 -2.54195860e+01]\n",
      " [ 1.01415058e+02 -1.01415058e+02  1.21334191e-13 -1.74086460e+01\n",
      "   1.22190552e+02 -5.15767885e+01 -6.16132401e+00 -5.97058113e+00\n",
      "   4.26736023e+01 -6.80452977e+00  4.86726015e+00  7.37826263e+01\n",
      "   5.62700054e+00 -1.49731564e+01  3.00633978e+00 -1.70773961e+01]\n",
      " [ 1.57315619e+02 -1.57315619e+02  1.27703908e-13 -3.44544448e+01\n",
      "   1.25379569e+02 -6.12089489e+01 -1.22591440e+01 -1.57556751e+01\n",
      "   3.19416726e+01 -1.54660729e+01 -1.26543116e+00  8.54012386e+01\n",
      "   2.63191825e+01 -2.66274443e+01  5.85867115e+00 -2.51427242e+01]\n",
      " [ 2.27847696e+02 -2.27847696e+02 -7.18823453e-13 -4.79670245e+01\n",
      "  -8.29300203e+02  3.03070019e+02 -1.23176499e+01 -1.57288610e+01\n",
      "  -4.81598965e+02 -3.13130848e+01 -1.32209115e+02 -2.78399138e+02\n",
      "   1.11925621e+02 -3.28677311e+01  1.55090398e+01  1.71142752e+01]\n",
      " [ 3.27550048e+02 -3.27550048e+02 -7.80594979e-13 -6.60333543e+01\n",
      "  -9.20359123e+02  3.33752915e+02 -1.62607308e+01 -2.00873875e+01\n",
      "  -5.62320478e+02 -2.74824968e+01 -1.46030745e+02 -2.75488781e+02\n",
      "   1.20861676e+02 -4.72340774e+01  1.90938924e+01  9.76287780e+00]\n",
      " [ 3.51635410e+02 -3.51635410e+02 -6.96320384e-13 -7.30906269e+01\n",
      "  -8.25663916e+02  2.95207055e+02 -2.48564270e+01 -2.95292736e+01\n",
      "  -5.17600970e+02 -4.19214416e+01 -1.43750839e+02 -2.34718282e+02\n",
      "   1.35486818e+02 -5.62758772e+01  1.94996659e+01  1.62101164e+00]\n",
      " [ 2.35953508e+02 -2.35953508e+02 -1.54453468e-13 -4.53221053e+01\n",
      "  -2.05774277e+02  6.57588232e+01 -1.30456706e+01 -1.72661262e+01\n",
      "  -1.60480285e+02 -2.12550917e+01 -4.20299018e+01 -2.09363474e+01\n",
      "   5.51655026e+01 -3.63887102e+01  1.03335647e+01 -1.91840896e+01]]\n"
     ]
    }
   ],
   "source": [
    "# Step 15: Apply LDA\n",
    "lda = LinearDiscriminantAnalysis(n_components=1)\n",
    "X_train_lda = lda.fit_transform(X_train_scaled, y_train)\n",
    "X_test_lda = lda.transform(X_test_scaled)\n",
    "print(\"\\nLDA Coefficients:\", lda.coef_)"
   ]
  }
 ],
 "metadata": {
  "language_info": {
   "name": "python"
  }
 },
 "nbformat": 4,
 "nbformat_minor": 2
}
