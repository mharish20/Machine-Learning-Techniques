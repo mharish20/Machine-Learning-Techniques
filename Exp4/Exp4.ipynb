{
 "cells": [
  {
   "cell_type": "code",
   "execution_count": 1,
   "metadata": {},
   "outputs": [],
   "source": [
    "import pandas as pd\n",
    "import numpy as np\n",
    "import matplotlib.pyplot as plt\n",
    "from sklearn.impute import SimpleImputer\n",
    "from sklearn.preprocessing import LabelEncoder"
   ]
  },
  {
   "cell_type": "code",
   "execution_count": 8,
   "metadata": {},
   "outputs": [
    {
     "name": "stdout",
     "output_type": "stream",
     "text": [
      "URK22CS7048\n",
      "First 5 rows of the dataset after preprocessing:\n",
      "   variance  skewness  curtosis  entropy  class\n",
      "0   3.62160    8.6661   -2.8073 -0.44699    0.0\n",
      "1   4.54590    8.1674   -2.4586 -1.46210    0.0\n",
      "2   3.86600   -2.6383    1.9242  0.10645    0.0\n",
      "3   3.45660    9.5228   -4.0112 -3.59440    0.0\n",
      "4   0.32924   -4.4552    4.5718 -0.98880    0.0\n",
      "\n",
      "Shape of X (features): (1372, 5)\n",
      "Shape of y (labels): (1372,)\n"
     ]
    }
   ],
   "source": [
    "# 1. Read the dataset and do necessary preprocessing\n",
    "# Replace \"BankNote_Authentication.csv\" with your file path if needed\n",
    "df = pd.read_csv(\"Banknote_Authentication.csv\")\n",
    "\n",
    "# --- Data Imputation for missing values ---\n",
    "imputer = SimpleImputer(strategy=\"mean\")\n",
    "df[df.columns] = imputer.fit_transform(df)\n",
    "\n",
    "# --- Encoding: convert categorical columns to numerical (if any) ---\n",
    "for col in df.columns:\n",
    "    if df[col].dtype == object:\n",
    "        le = LabelEncoder()\n",
    "        df[col] = le.fit_transform(df[col])\n",
    "\n",
    "# Assume the dataset columns are:\n",
    "# [feature1, feature2, feature3, feature4, class]\n",
    "# Where the last column is the label\n",
    "X = df.iloc[:, :-1].values  # independent variables\n",
    "y = df.iloc[:, -1].values   # dependent variable (class)\n",
    "\n",
    "# Add bias (intercept) term to X\n",
    "X = np.concatenate([np.ones((X.shape[0], 1)), X], axis=1)\n",
    "print(\"URK22CS7048\")\n",
    "print(\"First 5 rows of the dataset after preprocessing:\")\n",
    "print(df.head())\n",
    "\n",
    "print(\"\\nShape of X (features):\", X.shape)\n",
    "print(\"Shape of y (labels):\", y.shape)"
   ]
  },
  {
   "cell_type": "code",
   "execution_count": 7,
   "metadata": {},
   "outputs": [
    {
     "name": "stdout",
     "output_type": "stream",
     "text": [
      "URK22CS7048\n",
      "Minimum error occurs at epoch: 99\n"
     ]
    }
   ],
   "source": [
    "# 2. Train a logistic regression model using gradient descent\n",
    "#    and determine the epoch with minimum error.\n",
    "# We compute error as Mean Squared Error (MSE) on the output probability.\n",
    "def sigmoid(z):\n",
    "    return 1 / (1 + np.exp(-z))\n",
    "\n",
    "epochs = 100    # total epochs to train\n",
    "lr = 0.1        # learning rate (adjustable)\n",
    "\n",
    "errors = []         # to store error at each epoch\n",
    "weights_history = []  # to store weight vector at each epoch\n",
    "weights = np.zeros(X.shape[1])  # initialize weights\n",
    "\n",
    "for epoch in range(epochs):\n",
    "    z = np.dot(X, weights)\n",
    "    predictions = sigmoid(z)\n",
    "    \n",
    "    # Error (difference between predicted probability and actual label)\n",
    "    error = predictions - y\n",
    "    \n",
    "    # Compute Mean Squared Error (MSE) for reporting convergence\n",
    "    cost = np.mean(error ** 2)\n",
    "    errors.append(cost)\n",
    "    weights_history.append(weights.copy())\n",
    "    \n",
    "    # Compute gradient and update weights\n",
    "    gradient = np.dot(X.T, error) / X.shape[0]\n",
    "    weights = weights - lr * gradient\n",
    "print(\"URK22CS7048\")\n",
    "print(f\"Minimum error occurs at epoch: {errors.index(min(errors))}\")\n"
   ]
  },
  {
   "cell_type": "code",
   "execution_count": 6,
   "metadata": {},
   "outputs": [
    {
     "name": "stdout",
     "output_type": "stream",
     "text": [
      "URK22CS7048\n",
      "Epoch with minimum error: 99\n",
      "Minimum Error: 0.024801126982276878\n",
      "Final weight of each attribute at epoch 99: [ 0.53310666 -1.18314918 -0.63006382 -0.65145548 -0.26326875]\n"
     ]
    }
   ],
   "source": [
    "\n",
    "# 3. Determine the epoch with minimum error and print the weights.\n",
    "min_epoch = np.argmin(errors)\n",
    "print(\"URK22CS7048\")\n",
    "print(\"Epoch with minimum error:\", min_epoch)\n",
    "print(\"Minimum Error:\", errors[min_epoch])\n",
    "print(\"Final weight of each attribute at epoch {}: {}\".format(min_epoch, weights_history[min_epoch]))"
   ]
  },
  {
   "cell_type": "code",
   "execution_count": 9,
   "metadata": {},
   "outputs": [
    {
     "name": "stdout",
     "output_type": "stream",
     "text": [
      "URK22CS7048\n"
     ]
    },
    {
     "data": {
      "image/png": "[encoded data removed]",
      "text/plain": [
       "<Figure size 800x500 with 1 Axes>"
      ]
     },
     "metadata": {},
     "output_type": "display_data"
    }
   ],
   "source": [
    "# 4. Plot the convergence of error for each iteration (epoch)\n",
    "plt.figure(figsize=(8, 5))\n",
    "plt.plot(range(epochs), errors, marker=\"o\")\n",
    "plt.xlabel(\"Epochs\")\n",
    "plt.ylabel(\"Mean Squared Error\")\n",
    "plt.title(\"Convergence of Error\")\n",
    "plt.grid(True)\n",
    "print(\"URK22CS7048\")\n",
    "plt.show()"
   ]
  }
 ],
 "metadata": {
  "kernelspec": {
   "display_name": "Python 3",
   "language": "python",
   "name": "python3"
  },
  "language_info": {
   "codemirror_mode": {
    "name": "ipython",
    "version": 3
   },
   "file_extension": ".py",
   "mimetype": "text/x-python",
   "name": "python",
   "nbconvert_exporter": "python",
   "pygments_lexer": "ipython3",
   "version": "3.12.1"
  }
 },
 "nbformat": 4,
 "nbformat_minor": 2
}
