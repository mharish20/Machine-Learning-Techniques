{
 "cells": [
  {
   "cell_type": "code",
   "execution_count": null,
   "metadata": {},
   "outputs": [
    {
     "name": "stdout",
     "output_type": "stream",
     "text": [
      "<class 'pandas.core.frame.DataFrame'>\n",
      "RangeIndex: 2002 entries, 0 to 2001\n",
      "Data columns (total 10 columns):\n",
      " #   Column                 Non-Null Count  Dtype  \n",
      "---  ------                 --------------  -----  \n",
      " 0   satisfaction_level     2002 non-null   float64\n",
      " 1   last_evaluation        2002 non-null   float64\n",
      " 2   number_project         2002 non-null   int64  \n",
      " 3   average_montly_hours   2002 non-null   int64  \n",
      " 4   time_spend_company     2002 non-null   int64  \n",
      " 5   Work_accident          2002 non-null   int64  \n",
      " 6   left                   2002 non-null   int64  \n",
      " 7   promotion_last_5years  2002 non-null   int64  \n",
      " 8   Departments            2002 non-null   object \n",
      " 9   salary                 2002 non-null   object \n",
      "dtypes: float64(2), int64(6), object(2)\n",
      "memory usage: 156.5+ KB\n",
      "None\n"
     ]
    }
   ],
   "source": [
    "#1.Load the dataset and handle missing values (fill with mean/median/mode)\n",
    "import pandas as pd\n",
    "# Load the dataset\n",
    "df = pd.read_csv(\"HR_Data.csv\")  # Change path if needed\n",
    "\n",
    "# Handle missing values\n",
    "df.fillna(df.mean(numeric_only=True), inplace=True)  # Fill numerical with mean\n",
    "df.fillna(df.mode().iloc[0], inplace=True)  # Fill categorical with mode\n",
    "\n",
    "# Display dataset info\n",
    "print(df.info())\n"
   ]
  },
  {
   "cell_type": "code",
   "execution_count": 3,
   "metadata": {},
   "outputs": [
    {
     "name": "stdout",
     "output_type": "stream",
     "text": [
      "   satisfaction_level  last_evaluation  number_project  average_montly_hours  \\\n",
      "0            0.318681         0.265625             0.0              0.285047   \n",
      "1            0.692308         0.796875             0.6              0.593458   \n",
      "2            0.307692         0.250000             0.0              0.294393   \n",
      "3            0.351648         0.218750             0.0              0.266355   \n",
      "4            0.010989         0.640625             0.8              0.705607   \n",
      "\n",
      "   time_spend_company  Work_accident  left  promotion_last_5years Departments  \\\n",
      "0               0.125              0     1                      0       sales   \n",
      "1               0.375              0     1                      0       sales   \n",
      "2               0.125              0     1                      0       sales   \n",
      "3               0.125              0     1                      0       sales   \n",
      "4               0.250              0     1                      0       sales   \n",
      "\n",
      "  salary  \n",
      "0    low  \n",
      "1    low  \n",
      "2    low  \n",
      "3    low  \n",
      "4    low  \n"
     ]
    }
   ],
   "source": [
    "#2. Normalize numerical features using Min-Max Scaling\n",
    "from sklearn.preprocessing import MinMaxScaler\n",
    "\n",
    "# Normalize numerical columns\n",
    "scaler = MinMaxScaler()\n",
    "numerical_cols = [\"satisfaction_level\", \"last_evaluation\", \"number_project\", \"average_montly_hours\", \"time_spend_company\"]\n",
    "df[numerical_cols] = scaler.fit_transform(df[numerical_cols])\n",
    "\n",
    "# Display updated dataset\n",
    "print(df.head())"
   ]
  },
  {
   "cell_type": "code",
   "execution_count": 4,
   "metadata": {},
   "outputs": [
    {
     "name": "stdout",
     "output_type": "stream",
     "text": [
      "   satisfaction_level  last_evaluation  number_project  average_montly_hours  \\\n",
      "0            0.318681         0.265625             0.0              0.285047   \n",
      "1            0.692308         0.796875             0.6              0.593458   \n",
      "2            0.307692         0.250000             0.0              0.294393   \n",
      "3            0.351648         0.218750             0.0              0.266355   \n",
      "4            0.010989         0.640625             0.8              0.705607   \n",
      "\n",
      "   time_spend_company  Work_accident  left  promotion_last_5years  \\\n",
      "0               0.125              0     1                      0   \n",
      "1               0.375              0     1                      0   \n",
      "2               0.125              0     1                      0   \n",
      "3               0.125              0     1                      0   \n",
      "4               0.250              0     1                      0   \n",
      "\n",
      "   Departments  salary  \n",
      "0            7       1  \n",
      "1            7       1  \n",
      "2            7       1  \n",
      "3            7       1  \n",
      "4            7       1  \n"
     ]
    }
   ],
   "source": [
    "#3. Encode categorical features using Label Encoding\n",
    "from sklearn.preprocessing import LabelEncoder\n",
    "\n",
    "label_encoders = {}\n",
    "categorical_cols = [\"Departments\", \"salary\"]\n",
    "\n",
    "for col in categorical_cols:\n",
    "    le = LabelEncoder()\n",
    "    df[col] = le.fit_transform(df[col])\n",
    "    label_encoders[col] = le  # Store encoders for future use\n",
    "\n",
    "# Display encoded dataset\n",
    "print(df.head())\n"
   ]
  },
  {
   "cell_type": "code",
   "execution_count": 5,
   "metadata": {},
   "outputs": [
    {
     "name": "stdout",
     "output_type": "stream",
     "text": [
      "Training Set: (1501, 9), Testing Set: (501, 9)\n"
     ]
    }
   ],
   "source": [
    "#4. Split the dataset into 75% training and 25% testing\n",
    "from sklearn.model_selection import train_test_split\n",
    "\n",
    "# Define features and target\n",
    "X = df.drop(columns=[\"left\"])  # Features\n",
    "y = df[\"left\"]  # Target\n",
    "\n",
    "# Split dataset\n",
    "X_train, X_test, y_train, y_test = train_test_split(X, y, test_size=0.25, random_state=42)\n",
    "\n",
    "print(f\"Training Set: {X_train.shape}, Testing Set: {X_test.shape}\")\n"
   ]
  },
  {
   "cell_type": "code",
   "execution_count": 6,
   "metadata": {},
   "outputs": [
    {
     "name": "stdout",
     "output_type": "stream",
     "text": [
      "MLP(\n",
      "  (fc1): Linear(in_features=9, out_features=32, bias=True)\n",
      "  (fc2): Linear(in_features=32, out_features=16, bias=True)\n",
      "  (output): Linear(in_features=16, out_features=2, bias=True)\n",
      "  (relu): ReLU()\n",
      "  (softmax): Softmax(dim=1)\n",
      ")\n"
     ]
    }
   ],
   "source": [
    "#5. Design a Multi-Layer Perceptron (MLP) using torch.nn.Module\n",
    "import torch\n",
    "import torch.nn as nn\n",
    "import torch.optim as optim\n",
    "from torch.utils.data import TensorDataset, DataLoader\n",
    "\n",
    "# Convert to tensors\n",
    "X_train_tensor = torch.tensor(X_train.values, dtype=torch.float32)\n",
    "y_train_tensor = torch.tensor(y_train.values, dtype=torch.long)\n",
    "X_test_tensor = torch.tensor(X_test.values, dtype=torch.float32)\n",
    "y_test_tensor = torch.tensor(y_test.values, dtype=torch.long)\n",
    "\n",
    "# Create DataLoader\n",
    "batch_size = 32\n",
    "train_dataset = TensorDataset(X_train_tensor, y_train_tensor)\n",
    "test_dataset = TensorDataset(X_test_tensor, y_test_tensor)\n",
    "\n",
    "train_loader = DataLoader(train_dataset, batch_size=batch_size, shuffle=True)\n",
    "test_loader = DataLoader(test_dataset, batch_size=batch_size, shuffle=False)\n",
    "\n",
    "# Define MLP Model\n",
    "class MLP(nn.Module):\n",
    "    def __init__(self, input_size):\n",
    "        super(MLP, self).__init__()\n",
    "        self.fc1 = nn.Linear(input_size, 32)\n",
    "        self.fc2 = nn.Linear(32, 16)\n",
    "        self.output = nn.Linear(16, 2)  # 2 classes (left or not)\n",
    "        self.relu = nn.ReLU()\n",
    "        self.softmax = nn.Softmax(dim=1)\n",
    "\n",
    "    def forward(self, x):\n",
    "        x = self.relu(self.fc1(x))\n",
    "        x = self.relu(self.fc2(x))\n",
    "        x = self.softmax(self.output(x))\n",
    "        return x\n",
    "\n",
    "# Initialize model\n",
    "model = MLP(input_size=X_train.shape[1])\n",
    "print(model)\n"
   ]
  },
  {
   "cell_type": "code",
   "execution_count": 7,
   "metadata": {},
   "outputs": [
    {
     "name": "stdout",
     "output_type": "stream",
     "text": [
      "Epoch 10/100, Loss: 16.2925\n",
      "Epoch 20/100, Loss: 16.2582\n",
      "Epoch 30/100, Loss: 16.2622\n",
      "Epoch 40/100, Loss: 16.2551\n",
      "Epoch 50/100, Loss: 16.2548\n",
      "Epoch 60/100, Loss: 16.2579\n",
      "Epoch 70/100, Loss: 16.2610\n",
      "Epoch 80/100, Loss: 16.2606\n",
      "Epoch 90/100, Loss: 16.2255\n",
      "Epoch 100/100, Loss: 15.9278\n"
     ]
    }
   ],
   "source": [
    "#6. Train the model for 100 epochs\n",
    "# Define loss function and optimizer\n",
    "criterion = nn.CrossEntropyLoss()\n",
    "optimizer = optim.Adam(model.parameters(), lr=0.001)\n",
    "\n",
    "# Training loop\n",
    "epochs = 100\n",
    "for epoch in range(epochs):\n",
    "    total_loss = 0\n",
    "    for batch_X, batch_y in train_loader:\n",
    "        optimizer.zero_grad()\n",
    "        outputs = model(batch_X)\n",
    "        loss = criterion(outputs, batch_y)\n",
    "        loss.backward()\n",
    "        optimizer.step()\n",
    "        total_loss += loss.item()\n",
    "    \n",
    "    if (epoch+1) % 10 == 0:\n",
    "        print(f\"Epoch {epoch+1}/{epochs}, Loss: {total_loss:.4f}\")\n"
   ]
  },
  {
   "cell_type": "code",
   "execution_count": 8,
   "metadata": {},
   "outputs": [
    {
     "data": {
      "image/png": "[encoded data removed]",
      "text/plain": [
       "<Figure size 640x480 with 1 Axes>"
      ]
     },
     "metadata": {},
     "output_type": "display_data"
    }
   ],
   "source": [
    "#7. Plot training loss vs. number of iterations\n",
    "import matplotlib.pyplot as plt\n",
    "\n",
    "loss_values = []\n",
    "\n",
    "# Train again to record losses\n",
    "for epoch in range(epochs):\n",
    "    total_loss = 0\n",
    "    for batch_X, batch_y in train_loader:\n",
    "        optimizer.zero_grad()\n",
    "        outputs = model(batch_X)\n",
    "        loss = criterion(outputs, batch_y)\n",
    "        loss.backward()\n",
    "        optimizer.step()\n",
    "        total_loss += loss.item()\n",
    "    \n",
    "    loss_values.append(total_loss)\n",
    "\n",
    "# Plot loss curve\n",
    "plt.plot(range(1, epochs+1), loss_values)\n",
    "plt.xlabel(\"Epochs\")\n",
    "plt.ylabel(\"Loss\")\n",
    "plt.title(\"Training Loss Over Time\")\n",
    "plt.show()\n"
   ]
  },
  {
   "cell_type": "code",
   "execution_count": 9,
   "metadata": {},
   "outputs": [
    {
     "data": {
      "image/png": "[encoded data removed]",
      "text/plain": [
       "<Figure size 500x400 with 2 Axes>"
      ]
     },
     "metadata": {},
     "output_type": "display_data"
    }
   ],
   "source": [
    "#8. Compute and display Confusion Matrix\n",
    "from sklearn.metrics import confusion_matrix\n",
    "import seaborn as sns\n",
    "\n",
    "# Evaluate model\n",
    "model.eval()\n",
    "y_pred = []\n",
    "y_true = []\n",
    "\n",
    "with torch.no_grad():\n",
    "    for batch_X, batch_y in test_loader:\n",
    "        outputs = model(batch_X)\n",
    "        _, predicted = torch.max(outputs, 1)\n",
    "        y_pred.extend(predicted.numpy())\n",
    "        y_true.extend(batch_y.numpy())\n",
    "\n",
    "# Compute confusion matrix\n",
    "cm = confusion_matrix(y_true, y_pred)\n",
    "\n",
    "# Plot heatmap\n",
    "plt.figure(figsize=(5, 4))\n",
    "sns.heatmap(cm, annot=True, fmt=\"d\", cmap=\"Blues\")\n",
    "plt.xlabel(\"Predicted\")\n",
    "plt.ylabel(\"Actual\")\n",
    "plt.title(\"Confusion Matrix\")\n",
    "plt.show()\n"
   ]
  },
  {
   "cell_type": "code",
   "execution_count": 10,
   "metadata": {},
   "outputs": [
    {
     "name": "stdout",
     "output_type": "stream",
     "text": [
      "Accuracy: 0.9840\n",
      "Precision: 0.9963\n",
      "Recall: 0.9747\n",
      "F1 Score: 0.9854\n"
     ]
    }
   ],
   "source": [
    "#9. Calculate performance metrics (Accuracy, Precision, Recall, F1-score)\n",
    "from sklearn.metrics import accuracy_score, precision_score, recall_score, f1_score\n",
    "\n",
    "# Compute metrics\n",
    "accuracy = accuracy_score(y_true, y_pred)\n",
    "precision = precision_score(y_true, y_pred)\n",
    "recall = recall_score(y_true, y_pred)\n",
    "f1 = f1_score(y_true, y_pred)\n",
    "\n",
    "print(f\"Accuracy: {accuracy:.4f}\")\n",
    "print(f\"Precision: {precision:.4f}\")\n",
    "print(f\"Recall: {recall:.4f}\")\n",
    "print(f\"F1 Score: {f1:.4f}\")\n"
   ]
  },
  {
   "cell_type": "code",
   "execution_count": 11,
   "metadata": {},
   "outputs": [
    {
     "name": "stdout",
     "output_type": "stream",
     "text": [
      "Model Performance Metrics Interpretation:\n",
      "Accuracy: 0.9840 - Percentage of correct predictions out of all samples.\n",
      "Precision: 0.9963 - When the model predicts 'left', how often is it correct?\n",
      "Recall: 0.9747 - Out of all employees who actually left, how many did the model identify correctly?\n",
      "F1 Score: 0.9854 - Balance between precision and recall (useful if classes are imbalanced).\n",
      "Excellent Model: Your model is performing very well with high precision and recall.\n"
     ]
    }
   ],
   "source": [
    "#10. Interpretation of Performance Metrics\n",
    "from sklearn.metrics import accuracy_score, precision_score, recall_score, f1_score\n",
    "\n",
    "# Compute metrics\n",
    "accuracy = accuracy_score(y_true, y_pred)\n",
    "precision = precision_score(y_true, y_pred)\n",
    "recall = recall_score(y_true, y_pred)\n",
    "f1 = f1_score(y_true, y_pred)\n",
    "\n",
    "# Print performance metrics\n",
    "print(\"Model Performance Metrics Interpretation:\")\n",
    "print(f\"Accuracy: {accuracy:.4f} - Percentage of correct predictions out of all samples.\")\n",
    "print(f\"Precision: {precision:.4f} - When the model predicts 'left', how often is it correct?\")\n",
    "print(f\"Recall: {recall:.4f} - Out of all employees who actually left, how many did the model identify correctly?\")\n",
    "print(f\"F1 Score: {f1:.4f} - Balance between precision and recall (useful if classes are imbalanced).\")\n",
    "\n",
    "# Interpretation\n",
    "if f1 >= 0.8:\n",
    "    print(\"Excellent Model: Your model is performing very well with high precision and recall.\")\n",
    "elif f1 >= 0.6:\n",
    "    print(\"Good Model: The model is doing well, but improvements can be made.\")\n",
    "else:\n",
    "    print(\"Needs Improvement: The model may need better feature selection, tuning, or more data.\")\n"
   ]
  }
 ],
 "metadata": {
  "kernelspec": {
   "display_name": "Python 3",
   "language": "python",
   "name": "python3"
  },
  "language_info": {
   "codemirror_mode": {
    "name": "ipython",
    "version": 3
   },
   "file_extension": ".py",
   "mimetype": "text/x-python",
   "name": "python",
   "nbconvert_exporter": "python",
   "pygments_lexer": "ipython3",
   "version": "3.12.1"
  }
 },
 "nbformat": 4,
 "nbformat_minor": 2
}
